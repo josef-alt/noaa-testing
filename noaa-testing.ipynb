{
 "cells": [
  {
   "cell_type": "code",
   "execution_count": 1,
   "id": "82e45d88-fd34-4c9e-9636-221b3e0fa0d0",
   "metadata": {},
   "outputs": [],
   "source": [
    "import wave\n",
    "import numpy\n",
    "import matplotlib.pyplot as plt\n",
    "import scipy.signal as signal"
   ]
  },
  {
   "cell_type": "code",
   "execution_count": 2,
   "id": "a97af072-0a71-40bc-94a0-96d940e9c1a7",
   "metadata": {},
   "outputs": [],
   "source": [
    "# extracts everything (hopefully) relevant from the wav file\n",
    "def extract_data(wav_file):\n",
    "    try:\n",
    "        with wave.open(wav_file, 'rb') as input:\n",
    "            frames = input.readframes(-1)\n",
    "            rate = input.getframerate()\n",
    "            channels = input.getnchannels()\n",
    "            width = input.getsampwidth()\n",
    "        return frames, rate, channels, width\n",
    "    except FileNotFoundError:\n",
    "        print(f\"Error: File '{wav_file}' not found.\")\n",
    "        return None\n",
    "    except IOError as e:\n",
    "        print(f\"Error: Unable to open file '{wav_file}': {e}\")\n",
    "        return None"
   ]
  },
  {
   "cell_type": "code",
   "execution_count": 3,
   "id": "998edddb-6162-4ab3-987d-3f9c626793b0",
   "metadata": {},
   "outputs": [
    {
     "name": "stdout",
     "output_type": "stream",
     "text": [
      "# Frames: 19840702\n",
      "Rate: 11025\n",
      "Channels: 1\n",
      "Width: 2\n"
     ]
    }
   ],
   "source": [
    "# sample.wav was pulled from https://apt.open-weather.community/\n",
    "extracted_data = extract_data('sample.wav')\n",
    "\n",
    "if extracted_data is None:\n",
    "    print(\"Error: no data\")\n",
    "else:\n",
    "    frames, rate, channels, width = extracted_data\n",
    "    print(\"# Frames:\", len(frames))\n",
    "    print(\"Rate:\", rate)\n",
    "    print(\"Channels:\", channels)\n",
    "    print(\"Width:\", width)"
   ]
  },
  {
   "cell_type": "code",
   "execution_count": 4,
   "id": "844139b6-a0ef-471f-aede-8dd00dc23a0d",
   "metadata": {},
   "outputs": [
    {
     "name": "stdout",
     "output_type": "stream",
     "text": [
      "(9920351,)\n"
     ]
    }
   ],
   "source": [
    "# Convert frames to numpy array of integers\n",
    "audio_data = numpy.frombuffer(frames, dtype=numpy.int16)\n",
    "\n",
    "print(audio_data.shape)"
   ]
  },
  {
   "cell_type": "markdown",
   "id": "d3c64ae0-a43c-4781-a9fd-9e4519550b93",
   "metadata": {},
   "source": [
    "## Looking at periodicity"
   ]
  },
  {
   "cell_type": "code",
   "execution_count": null,
   "id": "566d205f-2cc9-46a1-9a96-ebb248f32f04",
   "metadata": {},
   "outputs": [],
   "source": [
    "slice = audio_data[20*rate:25*rate]\n",
    "plt.figure(figsize=(12,4))\n",
    "plt.plot(slice)\n",
    "plt.xlabel(\"Samples\")\n",
    "plt.ylabel(\"Amplitude\")\n",
    "plt.title(\"Signal\")\n",
    "plt.show()"
   ]
  },
  {
   "cell_type": "markdown",
   "id": "c563ef4b-d606-4811-b733-74c44fb44832",
   "metadata": {},
   "source": [
    "## Back to the math"
   ]
  },
  {
   "cell_type": "code",
   "execution_count": null,
   "id": "6635f419-b011-4d35-a1a8-940555fed8c3",
   "metadata": {},
   "outputs": [],
   "source": [
    "# plot a sample of signal and envelope\n",
    "def plot_sig_env(signal, envelope):\n",
    "    sample_size = 450\n",
    "    start_index = 0\n",
    "    sig = signal[start_index:start_index + sample_size]\n",
    "    env = envelope[start_index:start_index + sample_size]\n",
    "    plt.figure(figsize=(12,4))\n",
    "    plt.plot(sig.real)\n",
    "    #plt.plot(sig.imag)\n",
    "    #plt.plot(sig)\n",
    "    plt.plot(env)\n",
    "    plt.show()\n",
    "\n",
    "def hilbert_transform(audio_data):\n",
    "    analytical_signal = signal.hilbert(audio_data)\n",
    "    amplitude_envelope = numpy.abs(analytical_signal)\n",
    "\n",
    "    plot_sig_env(analytical_signal, amplitude_envelope)\n",
    "    \n",
    "    return amplitude_envelope\n",
    "    \n",
    "data_am = hilbert_transform(audio_data)"
   ]
  },
  {
   "cell_type": "markdown",
   "id": "7f453982-ed62-400d-954c-33997f96819a",
   "metadata": {},
   "source": [
    "## Converting this to an image"
   ]
  },
  {
   "cell_type": "code",
   "execution_count": null,
   "id": "3aeeac81-ae06-4e3a-9d4d-d7a72b47f11f",
   "metadata": {},
   "outputs": [],
   "source": [
    "print(data_am.shape, type(data_am[0]))\n",
    "print(min(data_am), max(data_am))\n",
    "\n",
    "data_scaled = (data_am / max(data_am)) * 255\n",
    "print(min(data_scaled), max(data_scaled))"
   ]
  },
  {
   "cell_type": "code",
   "execution_count": null,
   "id": "7802dac5-6932-483a-9006-f5c4c7e3a078",
   "metadata": {},
   "outputs": [],
   "source": [
    "from PIL import Image\n",
    "\n",
    "COLS = int(0.5 * rate)\n",
    "ROWS = data_am.shape[0] // COLS\n",
    "SCALE = 2 ** 15\n",
    "image = Image.new('L', (COLS, ROWS))\n",
    "\n",
    "col, row = 0, 0\n",
    "for p in range(data_am.shape[0]):\n",
    "    color = int((data_am[p] / SCALE) * 255)\n",
    "    image.putpixel((col, row), color)\n",
    "    \n",
    "    col += 1\n",
    "    if col >= COLS:\n",
    "        col = 0\n",
    "        row += 1\n",
    "        if row >= ROWS:\n",
    "            break\n",
    "plt.imshow(image, cmap=\"gray\")\n",
    "plt.axis('off')\n",
    "plt.show()"
   ]
  },
  {
   "cell_type": "code",
   "execution_count": null,
   "id": "bbdbc5ff-76fe-4ccb-862d-69c52c52fbb0",
   "metadata": {},
   "outputs": [],
   "source": [
    "image.save(\"greyscale9.jpg\")"
   ]
  },
  {
   "cell_type": "code",
   "execution_count": null,
   "id": "6feef5e7-92a9-43f2-a455-0e030a9e2d8d",
   "metadata": {},
   "outputs": [],
   "source": [
    "# Trying a simpler way to create the image\n",
    "d = (data_am / SCALE * 255)\n",
    "d[d < 0] = 0\n",
    "d[d > 255] = 255\n",
    "\n",
    "d = d[:ROWS * COLS]\n",
    "d = d.reshape((ROWS, COLS))\n",
    "\n",
    "plt.imshow(d, cmap=\"gray\")\n",
    "plt.axis('off')\n",
    "plt.show()"
   ]
  },
  {
   "cell_type": "code",
   "execution_count": null,
   "id": "8f0336b5-f9bf-41ea-bd08-36743e58ca37",
   "metadata": {},
   "outputs": [],
   "source": []
  }
 ],
 "metadata": {
  "kernelspec": {
   "display_name": "Python 3 (ipykernel)",
   "language": "python",
   "name": "python3"
  },
  "language_info": {
   "codemirror_mode": {
    "name": "ipython",
    "version": 3
   },
   "file_extension": ".py",
   "mimetype": "text/x-python",
   "name": "python",
   "nbconvert_exporter": "python",
   "pygments_lexer": "ipython3",
   "version": "3.11.5"
  }
 },
 "nbformat": 4,
 "nbformat_minor": 5
}
