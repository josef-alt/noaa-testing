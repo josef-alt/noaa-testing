{
 "cells": [
  {
   "cell_type": "code",
   "execution_count": 1,
   "id": "82e45d88-fd34-4c9e-9636-221b3e0fa0d0",
   "metadata": {},
   "outputs": [],
   "source": [
    "import wave\n",
    "import numpy"
   ]
  },
  {
   "cell_type": "code",
   "execution_count": 2,
   "id": "a97af072-0a71-40bc-94a0-96d940e9c1a7",
   "metadata": {},
   "outputs": [],
   "source": [
    "# extracts everything (hopefully) relevant from the wav file\n",
    "def extract_data(wav_file):\n",
    "    try:\n",
    "        with wave.open(wav_file, 'rb') as input:\n",
    "            frames = input.readframes(-1)\n",
    "            rate = input.getframerate()\n",
    "            channels = input.getnchannels()\n",
    "            width = input.getsampwidth()\n",
    "        return frames, rate, channels, width\n",
    "    except FileNotFoundError:\n",
    "        print(f\"Error: File '{input_file}' not found.\")\n",
    "        return None\n",
    "    except IOError as e:\n",
    "        print(f\"Error: Unable to open file '{input_file}': {e}\")\n",
    "        return None"
   ]
  },
  {
   "cell_type": "code",
   "execution_count": 3,
   "id": "998edddb-6162-4ab3-987d-3f9c626793b0",
   "metadata": {},
   "outputs": [
    {
     "name": "stdout",
     "output_type": "stream",
     "text": [
      "# Frames: 19840702\n",
      "Rate: 11025\n",
      "Channels: 1\n",
      "Width: 2\n"
     ]
    }
   ],
   "source": [
    "# samp\n",
    "extracted_data = extract_data('sample.wav')\n",
    "if extracted_data is None:\n",
    "    print(\"Error: no data\")\n",
    "else:\n",
    "    frames, rate, channels, width = extracted_data\n",
    "    print(\"# Frames:\", len(frames))\n",
    "    print(\"Rate:\", rate)\n",
    "    print(\"Channels:\", channels)\n",
    "    print(\"Width:\", width)"
   ]
  },
  {
   "cell_type": "code",
   "execution_count": null,
   "id": "fbff3572-a0bd-4430-ab49-d10416ff6eaf",
   "metadata": {},
   "outputs": [],
   "source": []
  }
 ],
 "metadata": {
  "kernelspec": {
   "display_name": "Python 3 (ipykernel)",
   "language": "python",
   "name": "python3"
  },
  "language_info": {
   "codemirror_mode": {
    "name": "ipython",
    "version": 3
   },
   "file_extension": ".py",
   "mimetype": "text/x-python",
   "name": "python",
   "nbconvert_exporter": "python",
   "pygments_lexer": "ipython3",
   "version": "3.11.5"
  }
 },
 "nbformat": 4,
 "nbformat_minor": 5
}
